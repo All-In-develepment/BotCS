{
 "cells": [
  {
   "cell_type": "code",
   "execution_count": null,
   "metadata": {},
   "outputs": [],
   "source": []
  },
  {
   "cell_type": "code",
   "execution_count": null,
   "metadata": {},
   "outputs": [],
   "source": [
    "import pandas as pd\n",
    "\n",
    "csv1 = pd.read_csv('./2024_LoL_esports_match_data_from_OraclesElixir_new.csv', index_col=0)\n",
    "csv2 = pd.read_csv('./2024_LoL_esports_match_data_from_OraclesElixir.csv', index_col=0)\n",
    "\n",
    "# Encontrar as linhas que são diferentes\n",
    "diferencas = csv1.merge(csv2, indicator=True, how='outer').loc[lambda x : x['_merge']!='both']\n",
    "\n",
    "diferencas"
   ]
  },
  {
   "cell_type": "code",
   "execution_count": 3,
   "metadata": {},
   "outputs": [],
   "source": [
    "# Crie um novo DataFrame com as diferenças\n",
    "novo_csv = pd.DataFrame(diferencas)\n",
    "\n",
    "# Salve o novo DataFrame em um arquivo CSV\n",
    "novo_csv.to_csv('diferencas.csv', index=False)\n"
   ]
  },
  {
   "cell_type": "code",
   "execution_count": null,
   "metadata": {},
   "outputs": [],
   "source": []
  },
  {
   "cell_type": "code",
   "execution_count": null,
   "metadata": {},
   "outputs": [],
   "source": [
    "file_id = '1IjIEhLc9n8eLKeY-yh_YigKVWbhgGBsN'\n",
    "download_url = f'https://drive.google.com/uc?export=download&id={file_id}'\n",
    "\n",
    "df = pd.read_csv(download_url)\n",
    "df"
   ]
  },
  {
   "cell_type": "code",
   "execution_count": 3,
   "metadata": {},
   "outputs": [
    {
     "name": "stdout",
     "output_type": "stream",
     "text": [
      ".env\n"
     ]
    }
   ],
   "source": [
    "import os\n",
    "env_path = os.path.join(os.path.dirname(os.path.dirname('index.py')), '.env')\n",
    "\n",
    "print(env_path)"
   ]
  },
  {
   "cell_type": "code",
   "execution_count": null,
   "metadata": {},
   "outputs": [],
   "source": []
  }
 ],
 "metadata": {
  "kernelspec": {
   "display_name": "Python 3",
   "language": "python",
   "name": "python3"
  },
  "language_info": {
   "codemirror_mode": {
    "name": "ipython",
    "version": 3
   },
   "file_extension": ".py",
   "mimetype": "text/x-python",
   "name": "python",
   "nbconvert_exporter": "python",
   "pygments_lexer": "ipython3",
   "version": "3.10.12"
  }
 },
 "nbformat": 4,
 "nbformat_minor": 2
}
