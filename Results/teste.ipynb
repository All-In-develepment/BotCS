{
 "cells": [
  {
   "cell_type": "code",
   "execution_count": 44,
   "metadata": {},
   "outputs": [],
   "source": [
    "import requests\n",
    "import json\n",
    "\n",
    "def CheckResult():\n",
    "    try:\n",
    "        match = requests.get(f'http://localhost:8080/api/Tips/status').json()\n",
    "        return match\n",
    "    except:\n",
    "        return False\n",
    "    \n",
    "def GetMatch(match_id):\n",
    "    try:\n",
    "        match = requests.get(f'http://191.252.5.225:5000/get-matches-statistics/{match_id}').json()\n",
    "        return match\n",
    "    except:\n",
    "        return False"
   ]
  },
  {
   "cell_type": "code",
   "execution_count": 30,
   "metadata": {},
   "outputs": [],
   "source": [
    "match = GetMatch(2371929)"
   ]
  },
  {
   "cell_type": "code",
   "execution_count": 63,
   "metadata": {},
   "outputs": [],
   "source": [
    "match_in_db = CheckResult()"
   ]
  },
  {
   "cell_type": "code",
   "execution_count": 64,
   "metadata": {},
   "outputs": [
    {
     "name": "stdout",
     "output_type": "stream",
     "text": [
      "2371929\n",
      "22.5\n",
      "Ganhou\n",
      "Não tem entrada para esse mapa\n",
      "Não tem entrada para esse mapa\n",
      "2371931\n",
      "20.5\n",
      "Perdeu\n",
      "Não tem entrada para esse mapa\n",
      "Não tem entrada para esse mapa\n",
      "2371893\n",
      "Não tem entrada para esse mapa\n",
      "Não tem entrada para esse mapa\n",
      "22.5\n",
      "Perdeu\n"
     ]
    }
   ],
   "source": [
    "point = 0\n",
    "for tip in match_in_db:\n",
    "    match = GetMatch(tip[\"tipMatchId\"])\n",
    "    print(tip[\"tipMatchId\"])\n",
    "    for entrada in tip[\"tipMapOdd\"]:\n",
    "        try:\n",
    "            entrada_float = entrada.replace(\",\", \".\")\n",
    "            entrada_float = float(entrada_float)\n",
    "            print(entrada_float)\n",
    "        except:\n",
    "            print(\"Não tem entrada para esse mapa\")\n",
    "            entrada_float = \"Não tem entrada para esse mapa\"\n",
    "            \n",
    "        if (\"winnerTeam\" in match):\n",
    "            maps_rouds = match[\"maps\"][point][\"result\"][\"team1TotalRounds\"] + match[\"maps\"][point][\"result\"][\"team2TotalRounds\"]\n",
    "        \n",
    "        if entrada_float != \"Não tem entrada para esse mapa\":\n",
    "            if maps_rouds < entrada_float:\n",
    "                print(\"Ganhou\")\n",
    "            else:\n",
    "                print(\"Perdeu\")\n",
    "            point += 1"
   ]
  }
 ],
 "metadata": {
  "kernelspec": {
   "display_name": "Python 3",
   "language": "python",
   "name": "python3"
  },
  "language_info": {
   "codemirror_mode": {
    "name": "ipython",
    "version": 3
   },
   "file_extension": ".py",
   "mimetype": "text/x-python",
   "name": "python",
   "nbconvert_exporter": "python",
   "pygments_lexer": "ipython3",
   "version": "3.12.2"
  }
 },
 "nbformat": 4,
 "nbformat_minor": 2
}
