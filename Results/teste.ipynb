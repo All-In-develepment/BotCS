{
 "cells": [
  {
   "cell_type": "code",
   "execution_count": 3,
   "metadata": {},
   "outputs": [],
   "source": [
    "import requests\n",
    "import json\n",
    "\n",
    "def CheckResult():\n",
    "    try:\n",
    "        match = requests.get(f'http://localhost:8080/api/Tips/status').json()\n",
    "        return match\n",
    "    except:\n",
    "        return False\n",
    "    \n",
    "def GetMatch(match_id):\n",
    "    try:\n",
    "        match = requests.get(f'http://191.252.5.225:5000/get-matches-statistics/{match_id}').json()\n",
    "        return match\n",
    "    except:\n",
    "        return False"
   ]
  },
  {
   "cell_type": "code",
   "execution_count": 6,
   "metadata": {},
   "outputs": [],
   "source": [
    "match = GetMatch(2371929)"
   ]
  },
  {
   "cell_type": "code",
   "execution_count": 11,
   "metadata": {},
   "outputs": [],
   "source": [
    "match_in_db = CheckResult()"
   ]
  },
  {
   "cell_type": "code",
   "execution_count": 12,
   "metadata": {},
   "outputs": [
    {
     "name": "stdout",
     "output_type": "stream",
     "text": [
      "{'tipId': 4, 'tipMatchId': '2371929', 'teamA': 'RED Canids', 'teamB': 'Solid', 'favoriteTeam': 'RED Canids', 'tipMaps': ['Dust2', 'Mirage', 'Anubis', 'na', 'na'], 'tipMapOdd': ['22,5', 'Não entrar', 'Não entrar'], 'tipMessageId': '181', 'tipsMapResult': None, 'tipStatus': True}\n",
      "{'tipId': 5, 'tipMatchId': '2371931', 'teamA': 'KRÜ', 'teamB': 'W7M', 'favoriteTeam': 'W7M', 'tipMaps': ['Nuke', 'Ancient', 'Anubis', 'na', 'na'], 'tipMapOdd': ['20,5', 'Não entrar', 'Não entrar'], 'tipMessageId': '182', 'tipsMapResult': None, 'tipStatus': True}\n",
      "{'tipId': 6, 'tipMatchId': '2371893', 'teamA': 'PARIVISION', 'teamB': 'Endpoint', 'favoriteTeam': 'PARIVISION', 'tipMaps': ['Mirage', 'Vertigo', 'Ancient', 'na', 'na'], 'tipMapOdd': ['Não entrar', 'Não entrar', '22,5'], 'tipMessageId': '183', 'tipsMapResult': None, 'tipStatus': True}\n"
     ]
    }
   ],
   "source": [
    "for tip in match_in_db:\n",
    "    print(f\"Time A: {tip[\"teamA\"]}\")\n",
    "    print(f\"Time B: {tip[\"teamB\"]}\")\n",
    "    print(f\"Time Favorito: {tip[\"favoriteTeam\"]}\")\n",
    "    print"
   ]
  },
  {
   "cell_type": "code",
   "execution_count": 64,
   "metadata": {},
   "outputs": [
    {
     "name": "stdout",
     "output_type": "stream",
     "text": [
      "2371929\n",
      "22.5\n",
      "Ganhou\n",
      "Não tem entrada para esse mapa\n",
      "Não tem entrada para esse mapa\n",
      "2371931\n",
      "20.5\n",
      "Perdeu\n",
      "Não tem entrada para esse mapa\n",
      "Não tem entrada para esse mapa\n",
      "2371893\n",
      "Não tem entrada para esse mapa\n",
      "Não tem entrada para esse mapa\n",
      "22.5\n",
      "Perdeu\n"
     ]
    }
   ],
   "source": [
    "point = 0\n",
    "for tip in match_in_db:\n",
    "    match = GetMatch(tip[\"tipMatchId\"])\n",
    "    print(tip[\"tipMatchId\"])\n",
    "    for entrada in tip[\"tipMapOdd\"]:\n",
    "        try:\n",
    "            entrada_float = entrada.replace(\",\", \".\")\n",
    "            entrada_float = float(entrada_float)\n",
    "            print(entrada_float)\n",
    "        except:\n",
    "            print(\"Não tem entrada para esse mapa\")\n",
    "            entrada_float = \"Não tem entrada para esse mapa\"\n",
    "            \n",
    "        if (\"winnerTeam\" in match):\n",
    "            maps_rouds = match[\"maps\"][point][\"result\"][\"team1TotalRounds\"] + match[\"maps\"][point][\"result\"][\"team2TotalRounds\"]\n",
    "        \n",
    "        if entrada_float != \"Não tem entrada para esse mapa\":\n",
    "            if maps_rouds < entrada_float:\n",
    "                print(\"Ganhou\")\n",
    "            else:\n",
    "                print(\"Perdeu\")\n",
    "            point += 1"
   ]
  }
 ],
 "metadata": {
  "kernelspec": {
   "display_name": "Python 3",
   "language": "python",
   "name": "python3"
  },
  "language_info": {
   "codemirror_mode": {
    "name": "ipython",
    "version": 3
   },
   "file_extension": ".py",
   "mimetype": "text/x-python",
   "name": "python",
   "nbconvert_exporter": "python",
   "pygments_lexer": "ipython3",
   "version": "3.12.2"
  }
 },
 "nbformat": 4,
 "nbformat_minor": 2
}
