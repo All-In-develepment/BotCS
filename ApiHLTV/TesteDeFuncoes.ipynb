{
 "cells": [
  {
   "cell_type": "code",
   "execution_count": 12,
   "metadata": {},
   "outputs": [],
   "source": [
    "import requests\n",
    "from selenium import webdriver\n",
    "from selenium.webdriver.common.by import By\n",
    "from selenium.webdriver.support.ui import WebDriverWait\n",
    "from selenium.webdriver.support import expected_conditions as EC"
   ]
  },
  {
   "cell_type": "code",
   "execution_count": 2,
   "metadata": {},
   "outputs": [],
   "source": [
    "url = 'http://192.168.25.179:8000/allMatches'\n",
    "\n",
    "resposta =  requests.get(url).json()"
   ]
  },
  {
   "cell_type": "code",
   "execution_count": 10,
   "metadata": {},
   "outputs": [
    {
     "name": "stdout",
     "output_type": "stream",
     "text": [
      "https://www.hltv.org/matches/2371589/liquid-vs-g3-esports-world-cup-2024-north-america-open-qualifier\n",
      "https://www.hltv.org/matches/2371590/esports-world-cup-2024-north-america-open-qualifier-semi-final-2-esports-world-cup-2024-north-america-open-qualifier\n",
      "https://www.hltv.org/matches/2371279/permitta-vs-sampi-european-pro-league-season-15\n",
      "https://www.hltv.org/matches/2371613/dxa-vs-mindfreak-esports-world-cup-2024-oceania-open-qualifier\n",
      "https://www.hltv.org/matches/2371370/b8-vs-zero-tenacity-elisa-invitational-spring-2024\n",
      "https://www.hltv.org/matches/2371376/bleed-vs-alternate-attax-res-regional-series-2-europe\n",
      "https://www.hltv.org/matches/2370969/big-vs-leon-thunderpick-world-championship-2024-eu-closed-qualifier-1\n",
      "https://www.hltv.org/matches/2371614/themongolz-vs-rare-atom-esports-world-cup-2024-asia-closed-qualifier\n",
      "https://www.hltv.org/matches/2371615/tyloo-vs-lynn-vision-esports-world-cup-2024-asia-closed-qualifier\n",
      "https://www.hltv.org/matches/2371363/enterprise-vs-nexus-yalla-compass-spring-2024\n"
     ]
    }
   ],
   "source": [
    "for game in range(10):\n",
    "    game_url = resposta[game]['link']\n",
    "    print(game_url)\n"
   ]
  },
  {
   "cell_type": "code",
   "execution_count": 22,
   "metadata": {},
   "outputs": [],
   "source": [
    "# Abrir pagina web\n",
    "driver = webdriver.Chrome()\n",
    "driver.get('https://www.hltv.org/matches/2371590/elevate-vs-nouns-take-flyte-winner-esports-world-cup-2024-north-america-open-qualifier')\n",
    "\n",
    "# Fecha a janela de cookies\n",
    "try :\n",
    "    WebDriverWait(driver, 30).until(EC.visibility_of_element_located((By.XPATH, '//*[@id=\"CybotCookiebotDialog\"]')))\n",
    "    WebDriverWait(driver, 20).until(EC.element_to_be_clickable((By.XPATH, '//*[@id=\"CybotCookiebotDialogBodyLevelButtonLevelOptinAllowAll\"]'))).click()\n",
    "except Exception as e:\n",
    "    print(f\"Erro ao aceitar cookies: {e}\")"
   ]
  },
  {
   "cell_type": "code",
   "execution_count": 23,
   "metadata": {},
   "outputs": [],
   "source": [
    "map1 = driver.find_element(By.CSS_SELECTOR, 'body > div.bgPadding > div.widthControl > div:nth-child(2) > div.contentCol > div.match-page > div.g-grid.maps > div.col-6.col-7-small > div.flexbox-column > div:nth-child(1) > div:nth-child(1) > div > div').text\n",
    "map2 = driver.find_element(By.CSS_SELECTOR, 'body > div.bgPadding > div.widthControl > div:nth-child(2) > div.contentCol > div.match-page > div.g-grid.maps > div.col-6.col-7-small > div.flexbox-column > div:nth-child(2) > div:nth-child(1) > div > div').text\n",
    "map3 = driver.find_element(By.CSS_SELECTOR, 'body > div.bgPadding > div.widthControl > div:nth-child(2) > div.contentCol > div.match-page > div.g-grid.maps > div.col-6.col-7-small > div.flexbox-column > div:nth-child(3) > div:nth-child(1) > div > div').text"
   ]
  },
  {
   "cell_type": "code",
   "execution_count": 24,
   "metadata": {},
   "outputs": [
    {
     "name": "stdout",
     "output_type": "stream",
     "text": [
      "{'map1': 'TBA', 'map2': 'TBA', 'map3': 'TBA'}\n"
     ]
    }
   ],
   "source": [
    "maps = {\n",
    "    \"map1\": map1,\n",
    "    \"map2\": map2,\n",
    "    \"map3\": map3\n",
    "}\n",
    "\n",
    "print(maps)"
   ]
  }
 ],
 "metadata": {
  "kernelspec": {
   "display_name": "Python 3",
   "language": "python",
   "name": "python3"
  },
  "language_info": {
   "codemirror_mode": {
    "name": "ipython",
    "version": 3
   },
   "file_extension": ".py",
   "mimetype": "text/x-python",
   "name": "python",
   "nbconvert_exporter": "python",
   "pygments_lexer": "ipython3",
   "version": "3.12.2"
  }
 },
 "nbformat": 4,
 "nbformat_minor": 2
}
