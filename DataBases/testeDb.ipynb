{
 "cells": [
  {
   "cell_type": "code",
   "execution_count": 1,
   "metadata": {},
   "outputs": [],
   "source": [
    "from Connection import ListMultipleMatchs, ListSingleMatch ,InsertOne, DeleteOne, EditOne, CreateConnection"
   ]
  },
  {
   "cell_type": "code",
   "execution_count": 2,
   "metadata": {},
   "outputs": [
    {
     "name": "stdout",
     "output_type": "stream",
     "text": [
      "{'_id': ObjectId('662f9e759f23b347320fbf01'), 'match_id': 2371733, 'status': True, 'date': '29/04/2024 10:15', 'team_a': 'SINNERS', 'team_b': '1WIN', 'map_1': 'Mirage', 'map_2': 'Ancient', 'map_3': 'Anubis', 'map_4': 'N/A', 'map_5': 'N/A', 'entrada_1': 'Não entrar', 'entrada_2': '21,5', 'entrada_3': '22,5', 'entrada_4': 'N/A', 'entrada_5': 'N/A'}\n",
      "{'_id': ObjectId('662f9e879f23b347320fbf04'), 'match_id': 2371843, 'status': True, 'date': '29/04/2024 09:00', 'team_a': 'Insilio', 'team_b': 'HAVU', 'map_1': 'Nuke', 'map_2': 'Ancient', 'map_3': 'Anubis', 'map_4': 'N/A', 'map_5': 'N/A', 'entrada_1': 'Não entrar', 'entrada_2': '20,5', 'entrada_3': '21,5', 'entrada_4': 'N/A', 'entrada_5': 'N/A'}\n",
      "{'_id': ObjectId('662f9ec49f23b347320fbf08'), 'match_id': 2371686, 'status': True, 'date': '29/04/2024 09:00', 'team_a': 'Gaimin Gladiators', 'team_b': 'ECF', 'map_1': 'Inferno', 'map_2': 'Ancient', 'map_3': 'Anubis', 'map_4': 'N/A', 'map_5': 'N/A', 'entrada_1': 'Não entrar', 'entrada_2': 'Não entrar', 'entrada_3': '22,5', 'entrada_4': 'N/A', 'entrada_5': 'N/A'}\n"
     ]
    }
   ],
   "source": [
    "lista, success = ListMultipleMatchs()\n",
    "if success:\n",
    "    for item in lista:\n",
    "        print(item)\n",
    "else:\n",
    "    print(\"Problema ao listar\")"
   ]
  },
  {
   "cell_type": "code",
   "execution_count": 5,
   "metadata": {},
   "outputs": [
    {
     "name": "stdout",
     "output_type": "stream",
     "text": [
      "{'_id': ObjectId('662a7922e3c91e51ddba09b4'), 'name': 'Novo Documento 2'}\n"
     ]
    }
   ],
   "source": [
    "list_one, success = ListSingleMatch('662a7922e3c91e51ddba09b4')\n",
    "if success:\n",
    "    print(list_one)"
   ]
  },
  {
   "cell_type": "code",
   "execution_count": null,
   "metadata": {},
   "outputs": [],
   "source": [
    "documentos = [{\"name\": \"Novo Documento\"}, {\"name\": \"Novo Documento 2\"}, {\"name\": \"Novo Documento 3\"}]\n",
    "for doc in documentos:\n",
    "    new_document_id, success = InsertOne(doc)\n",
    "    if success:\n",
    "        print(f\"Documento inserido com sucesso {new_document_id}\")"
   ]
  },
  {
   "cell_type": "code",
   "execution_count": 2,
   "metadata": {},
   "outputs": [
    {
     "name": "stdout",
     "output_type": "stream",
     "text": [
      "Documento editado com sucesso 1\n"
     ]
    }
   ],
   "source": [
    "resultado, success = EditOne('662a7920e3c91e51ddba09b2',{\"name\": \"Novo Documento Editado\"})\n",
    "\n",
    "if success:\n",
    "    print(f\"Documento editado com sucesso {resultado}\")"
   ]
  },
  {
   "cell_type": "code",
   "execution_count": 37,
   "metadata": {},
   "outputs": [
    {
     "name": "stdout",
     "output_type": "stream",
     "text": [
      "Documento deletado com sucesso 1\n",
      "Documento deletado com sucesso 1\n",
      "Documento deletado com sucesso 1\n",
      "Documento deletado com sucesso 1\n",
      "Documento deletado com sucesso 1\n",
      "Documento deletado com sucesso 1\n",
      "Documento deletado com sucesso 1\n"
     ]
    }
   ],
   "source": [
    "for obj in objetos:\n",
    "    delete_count, success = DeleteOne(obj)\n",
    "    if success:\n",
    "        print(f\"Documento deletado com sucesso {delete_count}\")"
   ]
  },
  {
   "cell_type": "code",
   "execution_count": 29,
   "metadata": {},
   "outputs": [],
   "source": [
    "def FindMatchByMatchId(match_id):\n",
    "    collection, success = CreateConnection()\n",
    "    if success:\n",
    "        try:\n",
    "            documents = collection.find({\"match_id\": match_id})\n",
    "            return documents, True\n",
    "        except Exception as e:\n",
    "            print(f\"Erro ao listar documentos: {e}\")\n",
    "            return [], False\n",
    "    else:\n",
    "        print(\"Erro ao Conecctar com banco de dados\")\n",
    "        return [], False"
   ]
  },
  {
   "cell_type": "code",
   "execution_count": 34,
   "metadata": {},
   "outputs": [
    {
     "name": "stdout",
     "output_type": "stream",
     "text": [
      "a busca foi ok\n",
      "{'_id': ObjectId('662b94c1dc819122b8e20af3'), 'match_id': 2371498, 'status': True}\n",
      "{'_id': ObjectId('662b95480dff9734aa23ed73'), 'match_id': 2371498, 'status': True}\n",
      "{'_id': ObjectId('662b961c4eb9e5205ade3a05'), 'match_id': 2371498, 'status': True}\n"
     ]
    }
   ],
   "source": [
    "jogo_entrotado_por_match_id, success = FindMatchByMatchId(int('2371498'))\n",
    "if success:\n",
    "    print(\"a busca foi ok\")\n",
    "    for jogo in jogo_entrotado_por_match_id:\n",
    "        print(jogo)"
   ]
  }
 ],
 "metadata": {
  "kernelspec": {
   "display_name": "Python 3",
   "language": "python",
   "name": "python3"
  },
  "language_info": {
   "codemirror_mode": {
    "name": "ipython",
    "version": 3
   },
   "file_extension": ".py",
   "mimetype": "text/x-python",
   "name": "python",
   "nbconvert_exporter": "python",
   "pygments_lexer": "ipython3",
   "version": "3.12.2"
  }
 },
 "nbformat": 4,
 "nbformat_minor": 2
}
