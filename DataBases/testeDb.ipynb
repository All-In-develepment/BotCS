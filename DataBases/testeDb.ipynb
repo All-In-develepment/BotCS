{
 "cells": [
  {
   "cell_type": "code",
   "execution_count": 2,
   "metadata": {},
   "outputs": [],
   "source": [
    "from Connection import ListMultipleMatchs, ListSingleMatch ,InsertOne, DeleteOne, EditOne, CreateConnection"
   ]
  },
  {
   "cell_type": "code",
   "execution_count": 3,
   "metadata": {},
   "outputs": [
    {
     "name": "stdout",
     "output_type": "stream",
     "text": [
      "{'_id': ObjectId('6633fb04808b0213ecf69d51'), 'match_id': 2371869, 'status': True, 'date': '02/05/2024 15:00', 'team_a': 'Endpoint', 'team_b': 'MOUZ NXT', 'map_1': 'Inferno', 'map_2': 'Vertigo', 'map_3': 'Ancient', 'map_4': 'N/A', 'map_5': 'N/A', 'entrada_1': 'Não entrar', 'entrada_2': '22,5', 'entrada_3': 'Não entrar', 'entrada_4': 'N/A', 'entrada_5': 'N/A'}\n"
     ]
    }
   ],
   "source": [
    "lista, success = ListMultipleMatchs()\n",
    "if success:\n",
    "    for item in lista:\n",
    "        print(item)\n",
    "else:\n",
    "    print(\"Problema ao listar\")"
   ]
  },
  {
   "cell_type": "code",
   "execution_count": 4,
   "metadata": {},
   "outputs": [
    {
     "name": "stdout",
     "output_type": "stream",
     "text": [
      "None\n"
     ]
    }
   ],
   "source": [
    "list_one, success = ListSingleMatch('662a7922e3c91e51ddba09b4')\n",
    "if success:\n",
    "    print(list_one)"
   ]
  },
  {
   "cell_type": "code",
   "execution_count": 5,
   "metadata": {},
   "outputs": [
    {
     "name": "stdout",
     "output_type": "stream",
     "text": [
      "Documento inserido com sucesso 6634025feccc1b55f48852a9\n",
      "Documento inserido com sucesso 66340261eccc1b55f48852ab\n",
      "Documento inserido com sucesso 66340262eccc1b55f48852ad\n"
     ]
    }
   ],
   "source": [
    "documentos = [{\"name\": \"Novo Documento\"}, {\"name\": \"Novo Documento 2\"}, {\"name\": \"Novo Documento 3\"}]\n",
    "for doc in documentos:\n",
    "    new_document_id, success = InsertOne(doc)\n",
    "    if success:\n",
    "        print(f\"Documento inserido com sucesso {new_document_id}\")"
   ]
  },
  {
   "cell_type": "code",
   "execution_count": 6,
   "metadata": {},
   "outputs": [
    {
     "name": "stdout",
     "output_type": "stream",
     "text": [
      "Documento editado com sucesso 0\n"
     ]
    }
   ],
   "source": [
    "resultado, success = EditOne('662a7920e3c91e51ddba09b2',{\"name\": \"Novo Documento Editado\"})\n",
    "\n",
    "if success:\n",
    "    print(f\"Documento editado com sucesso {resultado}\")"
   ]
  },
  {
   "cell_type": "code",
   "execution_count": 11,
   "metadata": {},
   "outputs": [
    {
     "ename": "NameError",
     "evalue": "name 'objetos' is not defined",
     "output_type": "error",
     "traceback": [
      "\u001b[1;31m---------------------------------------------------------------------------\u001b[0m",
      "\u001b[1;31mNameError\u001b[0m                                 Traceback (most recent call last)",
      "Cell \u001b[1;32mIn[11], line 1\u001b[0m\n\u001b[1;32m----> 1\u001b[0m \u001b[38;5;28;01mfor\u001b[39;00m obj \u001b[38;5;129;01min\u001b[39;00m \u001b[43mobjetos\u001b[49m:\n\u001b[0;32m      2\u001b[0m     delete_count, success \u001b[38;5;241m=\u001b[39m DeleteOne(obj)\n\u001b[0;32m      3\u001b[0m     \u001b[38;5;28;01mif\u001b[39;00m success:\n",
      "\u001b[1;31mNameError\u001b[0m: name 'objetos' is not defined"
     ]
    }
   ],
   "source": [
    "for obj in objetos:\n",
    "    delete_count, success = DeleteOne(obj)\n",
    "    if success:\n",
    "        print(f\"Documento deletado com sucesso {delete_count}\")"
   ]
  },
  {
   "cell_type": "code",
   "execution_count": 8,
   "metadata": {},
   "outputs": [],
   "source": [
    "def FindMatchByMatchId(match_id):\n",
    "    collection, success = CreateConnection()\n",
    "    if success:\n",
    "        try:\n",
    "            documents = collection.find({\"match_id\": match_id})\n",
    "            return documents, True\n",
    "        except Exception as e:\n",
    "            print(f\"Erro ao listar documentos: {e}\")\n",
    "            return [], False\n",
    "    else:\n",
    "        print(\"Erro ao Conecctar com banco de dados\")\n",
    "        return [], False"
   ]
  },
  {
   "cell_type": "code",
   "execution_count": 9,
   "metadata": {},
   "outputs": [
    {
     "name": "stdout",
     "output_type": "stream",
     "text": [
      "a busca foi ok\n"
     ]
    }
   ],
   "source": [
    "jogo_entrotado_por_match_id, success = FindMatchByMatchId(int('2371498'))\n",
    "if success:\n",
    "    print(\"a busca foi ok\")\n",
    "    for jogo in jogo_entrotado_por_match_id:\n",
    "        print(jogo)"
   ]
  }
 ],
 "metadata": {
  "kernelspec": {
   "display_name": "Python 3",
   "language": "python",
   "name": "python3"
  },
  "language_info": {
   "codemirror_mode": {
    "name": "ipython",
    "version": 3
   },
   "file_extension": ".py",
   "mimetype": "text/x-python",
   "name": "python",
   "nbconvert_exporter": "python",
   "pygments_lexer": "ipython3",
   "version": "3.12.3"
  }
 },
 "nbformat": 4,
 "nbformat_minor": 2
}
